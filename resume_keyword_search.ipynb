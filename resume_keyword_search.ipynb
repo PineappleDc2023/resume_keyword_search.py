{
 "cells": [
  {
   "cell_type": "code",
   "execution_count": null,
   "id": "660a5d02-d0c2-4e1a-98d9-98d321565d06",
   "metadata": {},
   "outputs": [],
   "source": [
    "pip install python-docx"
   ]
  },
  {
   "cell_type": "code",
   "execution_count": null,
   "id": "d0fc7fa5-3380-4afb-8708-a4e785e462c9",
   "metadata": {},
   "outputs": [],
   "source": [
    "import os\n",
    "from docx import Document\n",
    "\n",
    "def search_in_docx(file_path, keywords):\n",
    "    \"\"\"Search for keywords in a .docx file and return any matches.\"\"\"\n",
    "    try:\n",
    "        doc = Document(file_path)\n",
    "        text = \"\\n\".join([para.text for para in doc.paragraphs])\n",
    "        matches = [kw for kw in keywords if kw.lower() in text.lower()]\n",
    "        return matches\n",
    "    except Exception as e:\n",
    "        print(f\"Error reading {file_path}: {e}\")\n",
    "        return []\n",
    "\n",
    "# === Configuration ===\n",
    "folder = r\"/Users/John/Desktop/CV\"  # Path to folder containing resumes\n",
    "keywords = [\"Python\", \"SQL\", \"Data Analysis\"]      # Keywords to search for\n",
    "\n",
    "# === Script ===\n",
    "for filename in os.listdir(folder):\n",
    "    if filename.startswith(\"~$\"):  # Skip temporary Word files\n",
    "        continue\n",
    "    if filename.lower().endswith(\".docx\"):\n",
    "        filepath = os.path.join(folder, filename)\n",
    "        found = search_in_docx(filepath, keywords)\n",
    "        if found:\n",
    "            print(f\"Match found: {filename}  --> Keywords: {', '.join(found)}\")"
   ]
  }
 ],
 "metadata": {
  "kernelspec": {
   "display_name": "Python 3 (ipykernel)",
   "language": "python",
   "name": "python3"
  },
  "language_info": {
   "codemirror_mode": {
    "name": "ipython",
    "version": 3
   },
   "file_extension": ".py",
   "mimetype": "text/x-python",
   "name": "python",
   "nbconvert_exporter": "python",
   "pygments_lexer": "ipython3",
   "version": "3.13.5"
  }
 },
 "nbformat": 4,
 "nbformat_minor": 5
}
